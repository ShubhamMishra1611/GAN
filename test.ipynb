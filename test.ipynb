{
 "cells": [
  {
   "cell_type": "code",
   "execution_count": 1,
   "metadata": {},
   "outputs": [],
   "source": [
    "import numpy as np\n",
    "from helper import plot\n",
    "images = [np.array([1,0,0,1]),\n",
    "           np.array([0.9,0.1,0.2,0.8]),\n",
    "           np.array([0.9,0.2,0.1,0.8]),\n",
    "           np.array([0.8,0.1,0.2,0.9]),\n",
    "           np.array([0.8,0.2,0.1,0.9])]\n",
    "\n",
    "noise=[np.random.randn(2,2) for i in range(10)]\n"
   ]
  },
  {
   "cell_type": "code",
   "execution_count": 2,
   "metadata": {},
   "outputs": [],
   "source": [
    "from Discriminator import discriminator\n",
    "from Generator import generator\n",
    "from numpy.random import rand\n",
    "np.random.seed(45)\n",
    "epochs=25000\n",
    "d=discriminator(size=4)\n",
    "g=generator(size=2)\n",
    "\n",
    "for e in range(epochs):\n",
    "    for im in images:\n",
    "        d.update_weights(image=im,noise=False)\n",
    "        z=rand()\n",
    "        noise=g.forward(z)\n",
    "        d.update_weights(image=noise,noise=True)\n",
    "        g.update(z,d)\n",
    "\n",
    "\n"
   ]
  },
  {
   "cell_type": "code",
   "execution_count": 3,
   "metadata": {},
   "outputs": [
    {
     "name": "stdout",
     "output_type": "stream",
     "text": [
      "[[0.87013894 0.08904677]\n",
      " [0.12938445 0.87534491]] \n",
      "\n",
      "[[0.89739103 0.10235001]\n",
      " [0.1631542  0.86265415]] \n",
      "\n",
      "[[0.80582024 0.06899552]\n",
      " [0.08357942 0.89564192]] \n",
      "\n",
      "[[0.76031551 0.05966488]\n",
      " [0.06485922 0.90569995]] \n",
      "\n"
     ]
    },
    {
     "data": {
      "image/png": "[encoded data removed]",
      "text/plain": [
       "<Figure size 720x720 with 4 Axes>"
      ]
     },
     "metadata": {
      "needs_background": "light"
     },
     "output_type": "display_data"
    }
   ],
   "source": [
    "generated_images = []\n",
    "for i in range(4):\n",
    "    z = rand()\n",
    "    generated_image = g.forward(z)\n",
    "    generated_images.append(generated_image)\n",
    "_ = plot(generated_images, 1, 4)\n",
    "\n",
    "for img in generated_images:\n",
    "    print(img.reshape(2,2),\"\\n\")"
   ]
  },
  {
   "cell_type": "code",
   "execution_count": null,
   "metadata": {},
   "outputs": [],
   "source": []
  }
 ],
 "metadata": {
  "kernelspec": {
   "display_name": "Python 3.9.7 ('base')",
   "language": "python",
   "name": "python3"
  },
  "language_info": {
   "codemirror_mode": {
    "name": "ipython",
    "version": 3
   },
   "file_extension": ".py",
   "mimetype": "text/x-python",
   "name": "python",
   "nbconvert_exporter": "python",
   "pygments_lexer": "ipython3",
   "version": "3.9.7"
  },
  "orig_nbformat": 4,
  "vscode": {
   "interpreter": {
    "hash": "ad2bdc8ecc057115af97d19610ffacc2b4e99fae6737bb82f5d7fb13d2f2c186"
   }
  }
 },
 "nbformat": 4,
 "nbformat_minor": 2
}
